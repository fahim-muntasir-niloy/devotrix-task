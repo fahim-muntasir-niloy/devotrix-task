{
 "cells": [
  {
   "cell_type": "code",
   "execution_count": 1,
   "metadata": {},
   "outputs": [],
   "source": [
    "import requests, xml\n",
    "from bs4 import BeautifulSoup\n",
    "from selenium import webdriver"
   ]
  },
  {
   "cell_type": "markdown",
   "metadata": {},
   "source": [
    "## Get to links with selenium and bs4"
   ]
  },
  {
   "cell_type": "code",
   "execution_count": 2,
   "metadata": {},
   "outputs": [],
   "source": [
    "browser = webdriver.Edge()\n",
    "\n",
    "site_link = \"https://www.govinfo.gov/bulkdata/CFR/2024/title-12\"\n",
    "\n",
    "browser.get(site_link)\n",
    "response_html = browser.page_source\n",
    "soup = BeautifulSoup(response_html, \"html.parser\")"
   ]
  },
  {
   "cell_type": "code",
   "execution_count": 3,
   "metadata": {},
   "outputs": [
    {
     "data": {
      "text/plain": [
       "['/bulkdata/CFR/2024/title-12/CFR-2024-title12-vol1.xml',\n",
       " '/bulkdata/CFR/2024/title-12/CFR-2024-title12-vol3.xml',\n",
       " '/bulkdata/CFR/2024/title-12/CFR-2024-title12-vol8.xml',\n",
       " '/bulkdata/CFR/2024/title-12/CFR-2024-title12-vol5.xml',\n",
       " '/bulkdata/CFR/2024/title-12/CFR-2024-title12-vol4.xml',\n",
       " '/bulkdata/CFR/2024/title-12/CFR-2024-title12-vol10.xml',\n",
       " '/bulkdata/CFR/2024/title-12/CFR-2024-title12-vol7.xml',\n",
       " '/bulkdata/CFR/2024/title-12/CFR-2024-title12-vol2.xml']"
      ]
     },
     "execution_count": 3,
     "metadata": {},
     "output_type": "execute_result"
    }
   ],
   "source": [
    "xml_links = []\n",
    "for link in soup.find_all('a'):\n",
    "    if str(link.get('href')).endswith('xml'):\n",
    "        xml_links.append(str(link.get('href')))\n",
    "        \n",
    "xml_links"
   ]
  },
  {
   "cell_type": "markdown",
   "metadata": {},
   "source": [
    "## XML Persing with LXML"
   ]
  },
  {
   "cell_type": "code",
   "execution_count": 13,
   "metadata": {},
   "outputs": [],
   "source": [
    "import os\n",
    "from lxml import etree\n",
    "from urllib.parse import urljoin\n",
    "\n",
    "file_path = urljoin(site_link, xml_links[-1])\n",
    "xml_res = requests.get(file_path)\n",
    "file = BeautifulSoup(xml_res.content, \"lxml-xml\")\n"
   ]
  },
  {
   "cell_type": "code",
   "execution_count": 16,
   "metadata": {},
   "outputs": [
    {
     "name": "stdout",
     "output_type": "stream",
     "text": [
      "PDF saved as output.pdf\n"
     ]
    }
   ],
   "source": [
    "import pdfkit\n",
    "\n",
    "html_content = file.prettify()\n",
    "pdfkit.from_string(html_content, \"output.pdf\")\n",
    "print(\"PDF saved as output.pdf\")\n"
   ]
  }
 ],
 "metadata": {
  "kernelspec": {
   "display_name": "tf",
   "language": "python",
   "name": "python3"
  },
  "language_info": {
   "codemirror_mode": {
    "name": "ipython",
    "version": 3
   },
   "file_extension": ".py",
   "mimetype": "text/x-python",
   "name": "python",
   "nbconvert_exporter": "python",
   "pygments_lexer": "ipython3",
   "version": "3.9.19"
  }
 },
 "nbformat": 4,
 "nbformat_minor": 2
}
